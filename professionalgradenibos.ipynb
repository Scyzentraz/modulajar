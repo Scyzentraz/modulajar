{
  "nbformat": 4,
  "nbformat_minor": 0,
  "metadata": {
    "colab": {
      "provenance": [],
      "gpuType": "T4",
      "authorship_tag": "ABX9TyM2qQqpq8JIAI2avPpYai3M",
      "include_colab_link": true
    },
    "kernelspec": {
      "name": "python3",
      "display_name": "Python 3"
    },
    "language_info": {
      "name": "python"
    },
    "accelerator": "GPU"
  },
  "cells": [
    {
      "cell_type": "markdown",
      "metadata": {
        "id": "view-in-github",
        "colab_type": "text"
      },
      "source": [
        "<a href=\"https://colab.research.google.com/github/Scyzentraz/modulajar/blob/main/professionalgradenibos.ipynb\" target=\"_parent\"><img src=\"https://colab.research.google.com/assets/colab-badge.svg\" alt=\"Open In Colab\"/></a>"
      ]
    },
    {
      "cell_type": "code",
      "execution_count": null,
      "metadata": {
        "id": "czOdq3zt1gsG"
      },
      "outputs": [],
      "source": [
        "#Langkah 1. Mount Google Drive\n",
        "from google.colab import drive\n",
        "drive.mount('/content/drive')"
      ]
    },
    {
      "cell_type": "code",
      "source": [
        "#Langkah2. Install Model dan Dependensi yang dibutuhkan\n",
        "\n",
        "#Install Real esrgan\n",
        "import os\n",
        "\n",
        "if not os.path.exists(\"Real-ESRGAN\"):\n",
        "    !git clone https://github.com/xinntao/Real-ESRGAN.git\n",
        "\n",
        "#Install dependensi\n",
        "%cd Real-ESRGAN\n",
        "!pip install basicsr facexlib gfpgan ffmpeg-python\n",
        "!pip install -r requirements.txt\n",
        "!python setup.py develop\n",
        "!pip install tqdm\n",
        "!pip install pillow\n",
        "\n",
        "# Install waifu2x-caffe headless (pakai waifu2x-ncnn-vulkan yang ringan dan cepat)\n",
        "!wget https://github.com/nihui/waifu2x-ncnn-vulkan/releases/download/20220728/waifu2x-ncnn-vulkan-20220728-ubuntu.zip\n",
        "!unzip waifu2x-ncnn-vulkan-20220728-ubuntu.zip -d waifu2x\n",
        "!chmod +x waifu2x/waifu2x-ncnn-vulkan"
      ],
      "metadata": {
        "id": "kk9o36M81poc"
      },
      "execution_count": null,
      "outputs": []
    },
    {
      "cell_type": "code",
      "source": [
        "#Langkah 3. Patch bug rgb to grayscale (opsional)\n",
        "file_path = \"/usr/local/lib/python3.11/dist-packages/basicsr/data/degradations.py\"\n",
        "\n",
        "with open(file_path, 'r') as file:\n",
        "    file_data = file.readlines()\n",
        "\n",
        "# Hanya patch jika belum dipatch\n",
        "patched = False\n",
        "for i, line in enumerate(file_data):\n",
        "    if 'from torchvision.transforms.functional_tensor import rgb_to_grayscale' in line:\n",
        "        file_data[i] = 'from torchvision.transforms.functional import rgb_to_grayscale\\n'\n",
        "        patched = True\n",
        "        break\n",
        "\n",
        "if patched:\n",
        "    with open(file_path, 'w') as file:\n",
        "        file.writelines(file_data)\n",
        "    print(\"✅ Bug torchvision berhasil dipatch.\")\n",
        "else:\n",
        "    print(\"✅ Tidak perlu patch, sudah sesuai.\")"
      ],
      "metadata": {
        "id": "6VQalJL01xXs"
      },
      "execution_count": null,
      "outputs": []
    },
    {
      "cell_type": "code",
      "source": [
        "#Langkah 4.1 siapkan file input (manual di google drive, masukan gambar awal ke folder /upscale/input)\n",
        "#Langkah 4.2 konfigurasi batch\n",
        "import os\n",
        "from glob import glob\n",
        "\n",
        "\n",
        "\n",
        "\n",
        "# Konfigurasi\n",
        "source = \"image\"\n",
        "input_dir = \"/content/drive/MyDrive/upscale/input\"\n",
        "output_dir_waifu2x = \"/content/drive/MyDrive/upscale/waifu2x\"\n",
        "output_dir_1 = \"/content/drive/MyDrive/upscale/output1\"\n",
        "output_dir_2 = \"/content/drive/MyDrive/upscale/output2\"\n",
        "output_dir_3 = \"/content/drive/MyDrive/upscale/output3\"\n",
        "final_output_dir = \"/content/drive/MyDrive/upscale/final_jpeg\"\n",
        "model = \"RealESRGAN_x2plus\"\n",
        "scale = 2\n",
        "face_enhance = False\n",
        "\n",
        "\n",
        "# Buat folder output jika belum ada\n",
        "os.makedirs(output_dir_waifu2x, exist_ok=True)\n",
        "os.makedirs(output_dir_1, exist_ok=True)\n",
        "os.makedirs(output_dir_2, exist_ok=True)\n",
        "os.makedirs(output_dir_3, exist_ok=True)\n",
        "os.makedirs(final_output_dir, exist_ok=True)\n",
        "\n",
        "# Ambil semua file jpg/jpeg\n",
        "image_paths = sorted(\n",
        "    glob(os.path.join(input_dir, \"*.jpg\")) +\n",
        "    glob(os.path.join(input_dir, \"*.jpeg\")) +\n",
        "    glob(os.path.join(input_dir, \"*.png\"))\n",
        ")\n",
        "print(f\"Jumlah gambar ditemukan: {len(image_paths)}\")"
      ],
      "metadata": {
        "id": "WpPiUZCT15i7"
      },
      "execution_count": null,
      "outputs": []
    },
    {
      "cell_type": "code",
      "source": [
        "#Langkah 5.0, preprocess waifu2x\n",
        "\n",
        "import subprocess\n",
        "os.makedirs(output_dir_waifu2x, exist_ok=True)\n",
        "\n",
        "\n",
        "for img in tqdm(image_paths, desc=\"🔇 Denoising Waifu2x\"):\n",
        "    filename = os.path.basename(img)\n",
        "    output_path = os.path.join(output_dir_waifu2x, os.path.splitext(filename)[0] + \".png\")\n",
        "    command = f\"./waifu2x/waifu2x-ncnn-vulkan -i \\\"{img}\\\" -o \\\"{output_path}\\\" -n 1 -s 1\"\n",
        "    subprocess.run(command, shell=True)"
      ],
      "metadata": {
        "id": "38jB4qRT2bl3"
      },
      "execution_count": null,
      "outputs": []
    },
    {
      "cell_type": "code",
      "source": [
        "\n",
        "# Langkah 5.1 Ambil semua file jpg/jpeg/png, gunakan output dari waifu2x sebagai input ke tahap upscale pertama\n",
        "image_paths = sorted(\n",
        "    glob(os.path.join(output_dir_waifu2x, \"*.jpg\")) +\n",
        "    glob(os.path.join(output_dir_waifu2x, \"*.jpeg\")) +\n",
        "    glob(os.path.join(output_dir_waifu2x, \"*.png\"))\n",
        ")\n",
        "print(f\"Jumlah gambar ditemukan: {len(image_paths)}\")\n",
        "if not os.listdir(output_dir_waifu2x):\n",
        "    print(\"❌ Tidak ada output dari tahap preprocess!\")"
      ],
      "metadata": {
        "id": "US89kIph2cfA"
      },
      "execution_count": null,
      "outputs": []
    },
    {
      "cell_type": "code",
      "source": [
        "#Langkah 5.1.1 Upscale tahap pertama\n",
        "from tqdm import tqdm\n",
        "\n",
        "code = \"inference_realesrgan.py\"\n",
        "tile = 0  # ukuran tile, bisa disesuaikan jika masih kehabisan memori\n",
        "\n",
        "# Jalankan batch dengan progress bar\n",
        "\n",
        "for input_path in tqdm(image_paths, desc=\"🚀 Memproses gambar\"):\n",
        "    filename = os.path.splitext(os.path.basename(input_path))[0] + \".png\"\n",
        "    output_path = os.path.join(output_dir_1, filename)\n",
        "    command = f'python {code} -i \"{input_path}\" -n {model} -o \"{output_path}\" -s {scale} --tile {tile}'\n",
        "\n",
        "    if face_enhance:\n",
        "        command += \" --face_enhance\"\n",
        "\n",
        "    os.system(command)"
      ],
      "metadata": {
        "id": "tgQxaYAY2i-L"
      },
      "execution_count": null,
      "outputs": []
    },
    {
      "cell_type": "code",
      "source": [
        "# Langkah 5.2 Ambil semua file jpg/jpeg/png, gunakan output dari tahap pertama sebagai input ke tahap upscale kedua\n",
        "\n",
        "image_paths = sorted(\n",
        "    glob(os.path.join(output_dir_1, \"*.jpg\")) +\n",
        "    glob(os.path.join(output_dir_1, \"*.jpeg\")) +\n",
        "    glob(os.path.join(output_dir_1, \"*.png\"))\n",
        ")\n",
        "print(f\"Jumlah gambar ditemukan: {len(image_paths)}\")\n",
        "if not os.listdir(output_dir_1):\n",
        "    print(\"❌ Tidak ada output dari tahap pertama!\")"
      ],
      "metadata": {
        "id": "hF6JWh-22qgY"
      },
      "execution_count": null,
      "outputs": []
    },
    {
      "cell_type": "code",
      "source": [
        "#Langkah 5.2.1 upscale tahap 2\n",
        "from tqdm import tqdm\n",
        "import os\n",
        "\n",
        "code = \"inference_realesrgan.py\"\n",
        "tile = 400  # ukuran tile, bisa disesuaikan kalau masih kehabisan memori\n",
        "\n",
        "# Jalankan batch dengan progress bar\n",
        "\n",
        "for input_path in tqdm(image_paths, desc=\"🚀 Memproses gambar\"):\n",
        "    filename = os.path.splitext(os.path.basename(input_path))[0] + \".png\"\n",
        "    output_path = os.path.join(output_dir_2, filename)\n",
        "    command = f'python {code} -i \"{input_path}\" -n {model} -o \"{output_path}\" -s {scale} --tile {tile}'\n",
        "\n",
        "\n",
        "    if face_enhance:\n",
        "        command += \" --face_enhance\"\n",
        "\n",
        "    print(\"\\n[📤 Menjalankan command:]\")\n",
        "    print(command)  # log command yang dijalankan\n",
        "\n",
        "    exit_code = os.system(command)\n",
        "\n",
        "    if exit_code != 0:\n",
        "        print(f\"[❌ Gagal memproses {input_path}] (exit code: {exit_code})\")\n",
        "    else:\n",
        "        print(f\"[✅ Berhasil memproses {input_path}]\")"
      ],
      "metadata": {
        "id": "idTZma152v2C"
      },
      "execution_count": null,
      "outputs": []
    },
    {
      "cell_type": "code",
      "source": [
        "#Langkah 5.3 Ambil semua file jpg/jpeg/png, gunakan output dari tahap kedua sebagai input ke tahap upscale ketiga\n",
        "\n",
        "image_paths = sorted(\n",
        "    glob(os.path.join(output_dir_2, \"*.jpg\")) +\n",
        "    glob(os.path.join(output_dir_2, \"*.jpeg\")) +\n",
        "    glob(os.path.join(output_dir_2, \"*.png\"))\n",
        ")\n",
        "print(f\"Jumlah gambar ditemukan: {len(image_paths)}\")\n",
        "if not os.listdir(output_dir_2):\n",
        "    print(\"❌ Tidak ada output dari tahap kedua!\")"
      ],
      "metadata": {
        "id": "IaVICb1m25Xu"
      },
      "execution_count": null,
      "outputs": []
    },
    {
      "cell_type": "code",
      "source": [
        "#Langkah 5.3.1 upscale tahap 3\n",
        "from tqdm import tqdm\n",
        "import subprocess\n",
        "import os\n",
        "\n",
        "tile = 0  #\n",
        "tile_pad = 10\n",
        "code = \"inference_realesrgan.py\"\n",
        "\n",
        "for input_path in tqdm(image_paths, desc=\"🚀 Memproses gambar\"):\n",
        "    filename = os.path.splitext(os.path.basename(input_path))[0] + \".png\"\n",
        "    output_path = os.path.join(output_dir_3, filename)\n",
        "    command = f'python {code} -i \"{input_path}\" -n {model} -o \"{output_path}\" -s {scale} --tile {tile} --tile_pad {tile_pad}'\n",
        "\n",
        "    if face_enhance:\n",
        "        command += \" --face_enhance\"\n",
        "\n",
        "    print(\"[📤 Menjalankan command:]\")\n",
        "    print(command)\n",
        "\n",
        "    result = subprocess.run(command, shell=True, capture_output=True, text=True)\n",
        "\n",
        "    if result.returncode != 0:\n",
        "        print(f\"[❌ Gagal memproses {input_path}]\")\n",
        "        print(\"STDERR:\", result.stderr)\n",
        "    else:\n",
        "        print(f\"[✅ Berhasil memproses {input_path}]\")"
      ],
      "metadata": {
        "id": "JetBh8Gv2957"
      },
      "execution_count": null,
      "outputs": []
    },
    {
      "cell_type": "code",
      "source": [
        "#Langkah 6. Ambil semua file jpg/jpeg/png, gunakan output dari tahap ketiga sebagai input ke tahap jpeg 100%\n",
        "\n",
        "image_paths = sorted(\n",
        "    glob(os.path.join(output_dir_3, \"*.jpg\")) +\n",
        "    glob(os.path.join(output_dir_3, \"*.jpeg\")) +\n",
        "    glob(os.path.join(output_dir_3, \"*.png\"))\n",
        ")\n",
        "print(f\"Jumlah gambar ditemukan: {len(image_paths)}\")\n",
        "if not os.listdir(output_dir_3):\n",
        "    print(\"❌ Tidak ada output dari tahap ketiga!\")"
      ],
      "metadata": {
        "id": "wWAwIz_l3Dnv"
      },
      "execution_count": null,
      "outputs": []
    },
    {
      "cell_type": "code",
      "source": [
        "# Langkah 6.1: Konversi output akhir ke JPEG kualitas 100%\n",
        "\n",
        "from PIL import Image\n",
        "from glob import glob\n",
        "import os\n",
        "\n",
        "\n",
        "os.makedirs(final_output_dir, exist_ok=True)\n",
        "\n",
        "for img_path in tqdm(image_paths, desc=\"🧼 Konversi ke JPEG 100%\"):\n",
        "    with Image.open(img_path) as img:\n",
        "        img = img.convert(\"RGB\")\n",
        "        filename = os.path.splitext(os.path.basename(img_path))[0] + \".jpg\"\n",
        "        out_path = os.path.join(final_output_dir, filename)\n",
        "        img.save(out_path, format=\"JPEG\", quality=100, subsampling=0)\n",
        "\n",
        "print(\"✅ Semua gambar disimpan ulang sebagai JPEG kualitas 100% di:\", final_output_dir)"
      ],
      "metadata": {
        "id": "CfuCcb7W3JJ-"
      },
      "execution_count": null,
      "outputs": []
    },
    {
      "cell_type": "code",
      "source": [
        "#Langkah 7: Pengecekan dan verifikasi\n",
        "import os\n",
        "\n",
        "#cek ukuran dan format\n",
        "total_size = sum(os.path.getsize(f) for f in glob(os.path.join(final_output_dir, \"*.jpg\")))\n",
        "print(f\"📦 Total size semua JPEG 100%: {total_size / (1024 * 1024):.2f} MB\")\n",
        "\n",
        "#validasi format file\n",
        "for path in glob(os.path.join(final_output_dir, \"*.jpg\")):\n",
        "    try:\n",
        "        with Image.open(path) as img:\n",
        "            img.verify()\n",
        "    except Exception as e:\n",
        "        print(f\"❌ Corrupt file: {path} - {e}\")"
      ],
      "metadata": {
        "id": "QYJITZln3PIc"
      },
      "execution_count": null,
      "outputs": []
    }
  ]
}