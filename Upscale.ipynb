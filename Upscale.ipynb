{
  "nbformat": 4,
  "nbformat_minor": 0,
  "metadata": {
    "colab": {
      "provenance": [],
      "gpuType": "T4",
      "authorship_tag": "ABX9TyPjc276Da9GhJpfGEBbgT7G",
      "include_colab_link": true
    },
    "kernelspec": {
      "name": "python3",
      "display_name": "Python 3"
    },
    "language_info": {
      "name": "python"
    },
    "accelerator": "GPU"
  },
  "cells": [
    {
      "cell_type": "markdown",
      "metadata": {
        "id": "view-in-github",
        "colab_type": "text"
      },
      "source": [
        "<a href=\"https://colab.research.google.com/github/Scyzentraz/modulajar/blob/main/Upscale.ipynb\" target=\"_parent\"><img src=\"https://colab.research.google.com/assets/colab-badge.svg\" alt=\"Open In Colab\"/></a>"
      ]
    },
    {
      "cell_type": "code",
      "execution_count": 1,
      "metadata": {
        "colab": {
          "base_uri": "https://localhost:8080/"
        },
        "id": "6rXXooIBuawp",
        "outputId": "c669045b-f017-4795-9c2b-50361c33523c"
      },
      "outputs": [
        {
          "output_type": "stream",
          "name": "stdout",
          "text": [
            "Mounted at /content/drive\n"
          ]
        }
      ],
      "source": [
        "from google.colab import drive\n",
        "drive.mount('/content/drive')"
      ]
    },
    {
      "cell_type": "code",
      "source": [
        "import os\n",
        "\n",
        "if not os.path.exists(\"Real-ESRGAN\"):\n",
        "    !git clone https://github.com/xinntao/Real-ESRGAN.git\n",
        "\n",
        "%cd Real-ESRGAN\n",
        "!pip install basicsr facexlib gfpgan ffmpeg-python\n",
        "!pip install -r requirements.txt\n",
        "!python setup.py develop\n",
        "!pip install tqdm"
      ],
      "metadata": {
        "id": "LSgHj1ttupUj"
      },
      "execution_count": null,
      "outputs": []
    },
    {
      "cell_type": "code",
      "source": [
        "file_path = \"/usr/local/lib/python3.11/dist-packages/basicsr/data/degradations.py\"\n",
        "\n",
        "with open(file_path, 'r') as file:\n",
        "    file_data = file.readlines()\n",
        "\n",
        "# Hanya patch jika belum dipatch\n",
        "patched = False\n",
        "for i, line in enumerate(file_data):\n",
        "    if 'from torchvision.transforms.functional_tensor import rgb_to_grayscale' in line:\n",
        "        file_data[i] = 'from torchvision.transforms.functional import rgb_to_grayscale\\n'\n",
        "        patched = True\n",
        "        break\n",
        "\n",
        "if patched:\n",
        "    with open(file_path, 'w') as file:\n",
        "        file.writelines(file_data)\n",
        "    print(\"✅ Bug torchvision berhasil dipatch.\")\n",
        "else:\n",
        "    print(\"✅ Tidak perlu patch, sudah sesuai.\")"
      ],
      "metadata": {
        "id": "aGPzvoAjuqEh"
      },
      "execution_count": null,
      "outputs": []
    },
    {
      "cell_type": "code",
      "source": [
        "import os\n",
        "from glob import glob\n",
        "\n",
        "# Konfigurasi\n",
        "source = \"image\"\n",
        "input_dir = \"/content/drive/MyDrive/upscale/input\"\n",
        "output_dir = \"/content/drive/MyDrive/upscale/output\"\n",
        "model = \"RealESRGAN_x4plus\"\n",
        "scale = 4\n",
        "face_enhance = False\n",
        "\n",
        "# Buat folder output jika belum ada\n",
        "os.makedirs(output_dir, exist_ok=True)\n",
        "\n",
        "# Ambil semua file jpg/jpeg\n",
        "image_paths = sorted(\n",
        "    glob(os.path.join(input_dir, \"*.jpg\")) +\n",
        "    glob(os.path.join(input_dir, \"*.jpeg\")) +\n",
        "    glob(os.path.join(input_dir, \"*.png\"))\n",
        ")\n",
        "print(f\"Jumlah gambar ditemukan: {len(image_paths)}\")"
      ],
      "metadata": {
        "id": "DNPq9lqvuu_c"
      },
      "execution_count": null,
      "outputs": []
    },
    {
      "cell_type": "code",
      "source": [
        "from tqdm import tqdm\n",
        "\n",
        "code = \"inference_realesrgan.py\"\n",
        "\n",
        "# Jalankan batch dengan progress bar\n",
        "for input_path in tqdm(image_paths, desc=\"🚀 Memproses gambar\"):\n",
        "    filename = os.path.basename(input_path)\n",
        "    output_path = os.path.join(output_dir, filename)\n",
        "\n",
        "    if face_enhance:\n",
        "        !python {code} -i \"{input_path}\" -n {model} -o \"{output_path}\" -s {scale} --face_enhance\n",
        "    else:\n",
        "        !python {code} -i \"{input_path}\" -n {model} -o \"{output_path}\" -s {scale}"
      ],
      "metadata": {
        "id": "gOg_gl88u0e0"
      },
      "execution_count": null,
      "outputs": []
    },
    {
      "cell_type": "code",
      "source": [
        "from IPython.display import Image, display\n",
        "\n",
        "for input_path in image_paths[:3]:\n",
        "    filename = os.path.basename(input_path)\n",
        "    output_path = os.path.join(output_dir, filename)\n",
        "    print(f\"\\n📎 Before: {filename}\")\n",
        "    display(Image(filename=input_path, width=360))\n",
        "    print(f\"✨ After: {filename}\")\n",
        "    display(Image(filename=output_path, width=360))"
      ],
      "metadata": {
        "id": "Z-YxBF9Lu943"
      },
      "execution_count": null,
      "outputs": []
    }
  ]
}